{
 "cells": [
  {
   "cell_type": "code",
   "execution_count": null,
   "metadata": {
    "execution": {
     "iopub.execute_input": "2022-02-01T08:29:21.538927Z",
     "iopub.status.busy": "2022-02-01T08:29:21.538272Z",
     "iopub.status.idle": "2022-02-01T08:29:21.563393Z",
     "shell.execute_reply": "2022-02-01T08:29:21.562728Z",
     "shell.execute_reply.started": "2022-02-01T08:29:21.538837Z"
    }
   },
   "outputs": [],
   "source": [
    "import string\n",
    "import io\n",
    "import codecs\n",
    "import os\n",
    "import re"
   ]
  },
  {
   "cell_type": "code",
   "execution_count": null,
   "metadata": {
    "execution": {
     "iopub.execute_input": "2022-02-01T08:29:25.312354Z",
     "iopub.status.busy": "2022-02-01T08:29:25.311687Z",
     "iopub.status.idle": "2022-02-01T08:29:25.316878Z",
     "shell.execute_reply": "2022-02-01T08:29:25.316143Z",
     "shell.execute_reply.started": "2022-02-01T08:29:25.312306Z"
    }
   },
   "outputs": [],
   "source": [
    "# load doc into memory\n",
    "def load_doc(filename):\n",
    "    with io.open(filename, 'r', encoding='utf8') as f:\n",
    "        text = f.read()\n",
    "    return text"
   ]
  },
  {
   "cell_type": "code",
   "execution_count": null,
   "metadata": {
    "execution": {
     "iopub.execute_input": "2022-02-01T08:29:27.772003Z",
     "iopub.status.busy": "2022-02-01T08:29:27.771496Z",
     "iopub.status.idle": "2022-02-01T08:29:27.781193Z",
     "shell.execute_reply": "2022-02-01T08:29:27.780464Z",
     "shell.execute_reply.started": "2022-02-01T08:29:27.771966Z"
    }
   },
   "outputs": [],
   "source": [
    "# turn a doc into clean tokens\n",
    "def clean_doc(doc):\n",
    "    # replace '--' with a space ' '\n",
    "    doc = doc.replace('?', ' ? ')\n",
    "    doc = doc.replace('।', ' । ')\n",
    "    doc = doc.replace(',', ' । ')\n",
    "    doc = doc.replace('-', ' । ')\n",
    "    doc = doc.replace('(', ' । ')\n",
    "    doc = doc.replace(')', ' । ')\n",
    "    doc = doc.replace('{', ' । ')\n",
    "    doc = doc.replace('}', ' । ')\n",
    "    doc = doc.replace('[', ' । ')\n",
    "    doc = doc.replace(']', ' । ')\n",
    "    doc = doc.replace('*', ' ')\n",
    "    doc = doc.replace('^', ' ')\n",
    "    doc = doc.replace('#', ' ')\n",
    "    doc = doc.replace('~', ' ')\n",
    "    doc = doc.replace('`', ' ')\n",
    "    doc = doc.replace('/', ' ')\n",
    "    doc = doc.replace('_', ' ')\n",
    "    doc = doc.replace('’', ' ')\n",
    "    doc = doc.replace('‘', ' ')\n",
    "    doc = doc.replace('.',' । ')\n",
    "    \n",
    "    \n",
    "    # split into tokens by white space\n",
    "    tokens = doc.split()\n",
    "    # remove punctuation from each token\n",
    "    #table = str.maketrans('', '', string.punctuation)\n",
    "    #tokens = [w.translate(table) for w in tokens]\n",
    "    # remove remaining tokens that are not alphabetic\n",
    "    #tokens = [word for word in tokens if word.isalpha()]\n",
    "    # make lower case\n",
    "    tokens = [word.lower() for word in tokens]\n",
    "    return tokens"
   ]
  },
  {
   "cell_type": "code",
   "execution_count": null,
   "metadata": {
    "execution": {
     "iopub.execute_input": "2022-02-01T08:29:32.025233Z",
     "iopub.status.busy": "2022-02-01T08:29:32.024519Z",
     "iopub.status.idle": "2022-02-01T08:29:32.030424Z",
     "shell.execute_reply": "2022-02-01T08:29:32.029654Z",
     "shell.execute_reply.started": "2022-02-01T08:29:32.025186Z"
    }
   },
   "outputs": [],
   "source": [
    "# save tokens to file, one dialog per line\n",
    "def save_doc(lines, filename):\n",
    "\tdata = '\\n'.join(lines)\n",
    "\tfile = open(filename, 'w', encoding='utf8')\n",
    "\tfile.write(data)\n",
    "\tfile.close()"
   ]
  },
  {
   "cell_type": "code",
   "execution_count": null,
   "metadata": {
    "execution": {
     "iopub.execute_input": "2022-02-01T08:29:35.902236Z",
     "iopub.status.busy": "2022-02-01T08:29:35.901557Z",
     "iopub.status.idle": "2022-02-01T08:29:35.937579Z",
     "shell.execute_reply": "2022-02-01T08:29:35.936849Z",
     "shell.execute_reply.started": "2022-02-01T08:29:35.902195Z"
    }
   },
   "outputs": [],
   "source": [
    "# load document\n",
    "in_filename = r'../input/bangla-final-nstu/bangla_final_nstu.txt'\n",
    "doc = load_doc(in_filename)\n",
    "print(doc[:200])"
   ]
  },
  {
   "cell_type": "code",
   "execution_count": null,
   "metadata": {
    "execution": {
     "iopub.execute_input": "2022-02-01T08:29:39.982739Z",
     "iopub.status.busy": "2022-02-01T08:29:39.9818Z",
     "iopub.status.idle": "2022-02-01T08:29:40.026709Z",
     "shell.execute_reply": "2022-02-01T08:29:40.025954Z",
     "shell.execute_reply.started": "2022-02-01T08:29:39.982699Z"
    }
   },
   "outputs": [],
   "source": [
    "# clean document\n",
    "\n",
    "tokens = clean_doc(doc)\n",
    "#tokens = doc\n",
    "print(tokens[:200])\n",
    "print('Total Tokens: %d' % len(tokens))\n",
    "print('Unique Tokens: %d' % len(set(tokens)))"
   ]
  },
  {
   "cell_type": "code",
   "execution_count": null,
   "metadata": {
    "execution": {
     "iopub.execute_input": "2022-02-01T08:29:52.500232Z",
     "iopub.status.busy": "2022-02-01T08:29:52.499519Z",
     "iopub.status.idle": "2022-02-01T08:29:52.557312Z",
     "shell.execute_reply": "2022-02-01T08:29:52.556545Z",
     "shell.execute_reply.started": "2022-02-01T08:29:52.500196Z"
    }
   },
   "outputs": [],
   "source": [
    "# organize into sequences of tokens\n",
    "length = 2 + 1\n",
    "sequences = list()\n",
    "for i in range(length, len(tokens)):\n",
    "\t# select sequence of tokens\n",
    "\tseq = tokens[i-length:i]\n",
    "\t# convert into a line\n",
    "\tline = ' '.join(seq)\n",
    "\t# store\n",
    "\tsequences.append(line)\n",
    "print('Total Sequences: %d' % len(sequences))"
   ]
  },
  {
   "cell_type": "code",
   "execution_count": null,
   "metadata": {
    "execution": {
     "iopub.execute_input": "2022-02-01T08:30:07.046717Z",
     "iopub.status.busy": "2022-02-01T08:30:07.046214Z",
     "iopub.status.idle": "2022-02-01T08:30:07.062451Z",
     "shell.execute_reply": "2022-02-01T08:30:07.061586Z",
     "shell.execute_reply.started": "2022-02-01T08:30:07.046679Z"
    }
   },
   "outputs": [],
   "source": [
    "# save sequences to file\n",
    "out_filename = r'./2gram_tokenizer.txt'\n",
    "save_doc(sequences, out_filename)"
   ]
  },
  {
   "cell_type": "code",
   "execution_count": null,
   "metadata": {},
   "outputs": [],
   "source": []
  }
 ],
 "metadata": {
  "kernelspec": {
   "display_name": "Python 3",
   "language": "python",
   "name": "python3"
  },
  "language_info": {
   "codemirror_mode": {
    "name": "ipython",
    "version": 3
   },
   "file_extension": ".py",
   "mimetype": "text/x-python",
   "name": "python",
   "nbconvert_exporter": "python",
   "pygments_lexer": "ipython3",
   "version": "3.7.6"
  }
 },
 "nbformat": 4,
 "nbformat_minor": 4
}
